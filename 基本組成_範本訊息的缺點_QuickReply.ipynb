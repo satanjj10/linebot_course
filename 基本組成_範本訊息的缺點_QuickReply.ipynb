{
  "cells": [
    {
      "cell_type": "markdown",
      "metadata": {
        "id": "view-in-github",
        "colab_type": "text"
      },
      "source": [
        "<a href=\"https://colab.research.google.com/github/satanjj10/linebot_course/blob/main/%E5%9F%BA%E6%9C%AC%E7%B5%84%E6%88%90_%E7%AF%84%E6%9C%AC%E8%A8%8A%E6%81%AF%E7%9A%84%E7%BC%BA%E9%BB%9E_QuickReply.ipynb\" target=\"_parent\"><img src=\"https://colab.research.google.com/assets/colab-badge.svg\" alt=\"Open In Colab\"/></a>"
      ]
    },
    {
      "cell_type": "code",
      "execution_count": null,
      "metadata": {
        "colab": {
          "base_uri": "https://localhost:8080/",
          "height": 36
        },
        "id": "ylkDvkEfEZIw",
        "outputId": "6ff86a99-cfdd-4d2f-98b4-7c9595dbc9df"
      },
      "outputs": [
        {
          "data": {
            "application/vnd.google.colaboratory.intrinsic+json": {
              "type": "string"
            },
            "text/plain": [
              "'\\n掛載Google硬碟\\n安裝套件\\n引用套件\\nAPP應用準備\\n消息準備\\nhandler執行方法設計\\n啟動應用\\n\\n'"
            ]
          },
          "execution_count": 3,
          "metadata": {},
          "output_type": "execute_result"
        }
      ],
      "source": [
        "'''\n",
        "掛載Google硬碟\n",
        "安裝套件\n",
        "引用套件\n",
        "APP應用準備\n",
        "消息準備\n",
        "handler執行方法設計\n",
        "啟動應用\n",
        "\n",
        "'''"
      ]
    },
    {
      "cell_type": "code",
      "execution_count": null,
      "metadata": {
        "colab": {
          "base_uri": "https://localhost:8080/"
        },
        "id": "2mDqhB78Fxp6",
        "outputId": "323d42c4-b1e7-4513-fa54-37bac394b8df"
      },
      "outputs": [
        {
          "name": "stdout",
          "output_type": "stream",
          "text": [
            "Drive already mounted at /content/drive; to attempt to forcibly remount, call drive.mount(\"/content/drive\", force_remount=True).\n"
          ]
        }
      ],
      "source": [
        "'''\n",
        "\n",
        "資料 mapping 至google drive\n",
        "\n",
        "把資料寫在/content/drive\n",
        "\n",
        "即可保存在 google drive內\n",
        "\n",
        "'''\n",
        "from google.colab import drive\n",
        "drive.mount('/content/drive')"
      ]
    },
    {
      "cell_type": "code",
      "execution_count": null,
      "metadata": {
        "colab": {
          "base_uri": "https://localhost:8080/",
          "height": 36
        },
        "id": "4iGRs1oYD6Ca",
        "outputId": "beb96e88-8d80-4072-8e80-2a64ab2f45a7"
      },
      "outputs": [
        {
          "data": {
            "application/vnd.google.colaboratory.intrinsic+json": {
              "type": "string"
            },
            "text/plain": [
              "'\\n\\n流程解析\\n\\n'"
            ]
          },
          "execution_count": 5,
          "metadata": {},
          "output_type": "execute_result"
        }
      ],
      "source": [
        "'''\n",
        "\n",
        "流程解析\n",
        "\n",
        "'''\n"
      ]
    },
    {
      "cell_type": "code",
      "execution_count": null,
      "metadata": {
        "colab": {
          "base_uri": "https://localhost:8080/"
        },
        "id": "JyhJqq8KImyR",
        "outputId": "b1f1eb9b-14c6-4428-cd6a-937c2248f9bd"
      },
      "outputs": [
        {
          "name": "stdout",
          "output_type": "stream",
          "text": [
            "Requirement already satisfied: line-bot-sdk in /usr/local/lib/python3.7/dist-packages (2.2.1)\n",
            "Requirement already satisfied: flask in /usr/local/lib/python3.7/dist-packages (1.1.4)\n",
            "Requirement already satisfied: flask-ngrok in /usr/local/lib/python3.7/dist-packages (0.0.25)\n",
            "Requirement already satisfied: future in /usr/local/lib/python3.7/dist-packages (from line-bot-sdk) (0.16.0)\n",
            "Requirement already satisfied: aiohttp>=3.7.4 in /usr/local/lib/python3.7/dist-packages (from line-bot-sdk) (3.8.1)\n",
            "Requirement already satisfied: requests>=2.0 in /usr/local/lib/python3.7/dist-packages (from line-bot-sdk) (2.23.0)\n",
            "Requirement already satisfied: attrs>=17.3.0 in /usr/local/lib/python3.7/dist-packages (from aiohttp>=3.7.4->line-bot-sdk) (21.4.0)\n",
            "Requirement already satisfied: yarl<2.0,>=1.0 in /usr/local/lib/python3.7/dist-packages (from aiohttp>=3.7.4->line-bot-sdk) (1.7.2)\n",
            "Requirement already satisfied: multidict<7.0,>=4.5 in /usr/local/lib/python3.7/dist-packages (from aiohttp>=3.7.4->line-bot-sdk) (6.0.2)\n",
            "Requirement already satisfied: aiosignal>=1.1.2 in /usr/local/lib/python3.7/dist-packages (from aiohttp>=3.7.4->line-bot-sdk) (1.2.0)\n",
            "Requirement already satisfied: asynctest==0.13.0 in /usr/local/lib/python3.7/dist-packages (from aiohttp>=3.7.4->line-bot-sdk) (0.13.0)\n",
            "Requirement already satisfied: charset-normalizer<3.0,>=2.0 in /usr/local/lib/python3.7/dist-packages (from aiohttp>=3.7.4->line-bot-sdk) (2.0.12)\n",
            "Requirement already satisfied: frozenlist>=1.1.1 in /usr/local/lib/python3.7/dist-packages (from aiohttp>=3.7.4->line-bot-sdk) (1.3.0)\n",
            "Requirement already satisfied: async-timeout<5.0,>=4.0.0a3 in /usr/local/lib/python3.7/dist-packages (from aiohttp>=3.7.4->line-bot-sdk) (4.0.2)\n",
            "Requirement already satisfied: typing-extensions>=3.7.4 in /usr/local/lib/python3.7/dist-packages (from aiohttp>=3.7.4->line-bot-sdk) (4.2.0)\n",
            "Requirement already satisfied: chardet<4,>=3.0.2 in /usr/local/lib/python3.7/dist-packages (from requests>=2.0->line-bot-sdk) (3.0.4)\n",
            "Requirement already satisfied: certifi>=2017.4.17 in /usr/local/lib/python3.7/dist-packages (from requests>=2.0->line-bot-sdk) (2021.10.8)\n",
            "Requirement already satisfied: urllib3!=1.25.0,!=1.25.1,<1.26,>=1.21.1 in /usr/local/lib/python3.7/dist-packages (from requests>=2.0->line-bot-sdk) (1.24.3)\n",
            "Requirement already satisfied: idna<3,>=2.5 in /usr/local/lib/python3.7/dist-packages (from requests>=2.0->line-bot-sdk) (2.10)\n",
            "Requirement already satisfied: Jinja2<3.0,>=2.10.1 in /usr/local/lib/python3.7/dist-packages (from flask) (2.11.3)\n",
            "Requirement already satisfied: click<8.0,>=5.1 in /usr/local/lib/python3.7/dist-packages (from flask) (7.1.2)\n",
            "Requirement already satisfied: itsdangerous<2.0,>=0.24 in /usr/local/lib/python3.7/dist-packages (from flask) (1.1.0)\n",
            "Requirement already satisfied: Werkzeug<2.0,>=0.15 in /usr/local/lib/python3.7/dist-packages (from flask) (1.0.1)\n",
            "Requirement already satisfied: MarkupSafe>=0.23 in /usr/local/lib/python3.7/dist-packages (from Jinja2<3.0,>=2.10.1->flask) (2.0.1)\n"
          ]
        }
      ],
      "source": [
        "!pip install line-bot-sdk flask flask-ngrok"
      ]
    },
    {
      "cell_type": "code",
      "execution_count": null,
      "metadata": {
        "id": "rJDNE2TYEaYA"
      },
      "outputs": [],
      "source": [
        "'''\n",
        "引用套件\n",
        "'''\n",
        "\n",
        "# 引用Web Server套件\n",
        "from flask import Flask, request, abort, jsonify\n",
        "\n",
        "# 載入json處理套件\n",
        "import json\n",
        "\n",
        "# 外部連結自動生成套件\n",
        "from flask_ngrok import run_with_ngrok\n",
        "\n",
        "# 從linebot 套件包裡引用 LineBotApi 與 WebhookHandler 類別\n",
        "from linebot import (\n",
        "    LineBotApi, WebhookHandler\n",
        ")\n",
        "\n",
        "# 引用無效簽章錯誤\n",
        "from linebot.exceptions import (\n",
        "    InvalidSignatureError\n",
        ")\n"
      ]
    },
    {
      "cell_type": "code",
      "execution_count": null,
      "metadata": {
        "id": "XssY97Y9Eahe"
      },
      "outputs": [],
      "source": [
        "'''\n",
        "建置主程序\n",
        "\n",
        "建置handler與 line_bot_api\n",
        "'''\n",
        "\n",
        "# 設定Server啟用細節\n",
        "app = Flask(__name__,static_url_path = \"/material\" , static_folder = \"./material/\")\n",
        "run_with_ngrok(app)\n",
        "\n",
        "# 生成實體物件\n",
        "line_bot_api = LineBotApi(\"lSRXXK98162m7Q+kBr64eBxc9tV9FaNDf5cUXtDF2M8ljxITO86UTkf0MyMROwaA5aU3NGhN7ic+DswXldXarwEhuFaJP2I/T+3/OEGYK6mPkXr9pi8kMKrq9gntscNDRQRe40ZjpoWM/UqW7l1LbAdB04t89/1O/w1cDnyilFU=\")\n",
        "handler = WebhookHandler(\"e3573ac18293efc5912dad6d88db1831\")"
      ]
    },
    {
      "cell_type": "code",
      "execution_count": null,
      "metadata": {
        "id": "jyIFMBi4EvTl"
      },
      "outputs": [],
      "source": [
        "'''\n",
        "建置主程序的API入口\n",
        "  接受Line傳過來的消息\n",
        "  並取出消息內容\n",
        "  將消息內容存在google drive的檔案內\n",
        "  並請handler 進行消息驗證與轉發\n",
        "'''\n",
        "\n",
        "\n",
        "# 啟動server對外接口，使Line能丟消息進來\n",
        "@app.route(\"/\", methods=['POST'])\n",
        "def callback():\n",
        "    # get X-Line-Signature header value\n",
        "    signature = request.headers['X-Line-Signature']\n",
        "\n",
        "    # get request body as text\n",
        "    body = request.get_data(as_text=True)\n",
        "    print(body)\n",
        "\n",
        "    # 記錄用戶log\n",
        "    f = open(\"/content/drive/MyDrive/ai-event.log\", \"a\")\n",
        "    f.write(body)\n",
        "    f.close()\n",
        "\n",
        "    # handle webhook body\n",
        "    try:\n",
        "        handler.handle(body, signature)\n",
        "    except InvalidSignatureError:\n",
        "        abort(400)\n",
        "\n",
        "    return 'OK'"
      ]
    },
    {
      "cell_type": "code",
      "execution_count": null,
      "metadata": {
        "id": "CLJukg__Yaal"
      },
      "outputs": [],
      "source": [
        "'''\n",
        "\n",
        "準備QuickReply的Button\n",
        "\n",
        "QuickReply快速回復\n",
        "\n",
        "有很多小按鍵，按鍵使用後就會消失\n",
        "\n",
        "準備QuickReply，必須先把按鍵都準備好\n",
        "\n",
        "\n",
        "'''\n",
        "\n",
        "# 引入相關套件\n",
        "from linebot.models import (\n",
        "    MessageAction, URIAction,\n",
        "    PostbackAction, DatetimePickerAction,\n",
        "    CameraAction, CameraRollAction, LocationAction,\n",
        "    QuickReply, QuickReplyButton\n",
        ")\n",
        "\n",
        "# 創建QuickReplyButton \n",
        "\n",
        "## 點擊後，以用戶身份發送文字消息\n",
        "## MessageAction\n",
        "# QuickReplyButton\n",
        "# action => 填Action\n",
        "# MessageAction => 以用戶身分發文字\n",
        "# label => 按鍵的文字\n",
        "# text => 以用戶角度講的話\n",
        "textQuickReplyButton = QuickReplyButton(\n",
        "    action=MessageAction(\n",
        "        label=\"發送文字消息\", \n",
        "        text=\"text2\"\n",
        "    )\n",
        ")\n",
        "\n",
        "## 點擊後，彈跳出選擇時間之視窗\n",
        "## DatetimePickerAction\n",
        "# label => 按鍵的文字\n",
        "# data => 傳隱藏資訊給我們\n",
        "# mode date => 給用戶輸入的畫面是天數\n",
        "dateQuickReplyButton = QuickReplyButton(\n",
        "    action=DatetimePickerAction(\n",
        "        label=\"時間選擇\",\n",
        "        data=\"data3\",                       \n",
        "        mode=\"date\"\n",
        "    )\n",
        ")\n",
        "\n",
        "\n",
        "## 點擊後，開啟相機\n",
        "## CameraAction\n",
        "cameraQuickReplyButton = QuickReplyButton(\n",
        "    action=CameraAction(label=\"拍照\")\n",
        ")\n",
        "\n",
        "## 點擊後，切換至照片相簿選擇\n",
        "# 引導用戶發圖片消息給我們\n",
        "cameraRollQRB = QuickReplyButton(\n",
        "    action=CameraRollAction(label=\"選擇照片\")\n",
        ")\n",
        "\n",
        "## 點擊後，跳出地理位置\n",
        "# 引導用戶發地理位置消息給我們\n",
        "locationQRB = QuickReplyButton(\n",
        "    action=LocationAction(label=\"地理位置\")\n",
        ")\n",
        "\n",
        "## 點擊後，以Postback事件回應Server\n",
        "# 利用data做很多特殊功能\n",
        "postbackQRB = QuickReplyButton(\n",
        "    action=PostbackAction(label=\"我是PostbackEvent\", data=\"Data1\")\n",
        ")"
      ]
    },
    {
      "cell_type": "code",
      "execution_count": null,
      "metadata": {
        "id": "wIN_RgjHYiKe"
      },
      "outputs": [],
      "source": [
        "'''\n",
        "\n",
        "以QuickReply封裝該些QuickReply Button\n",
        "\n",
        "'''\n",
        "## 設計QuickReplyButton的List\n",
        "# QuickReply的參數items通常為一個list\n",
        "# list 放的是按鍵(button)\n",
        "quickReplyList = QuickReply(\n",
        "    items = [textQuickReplyButton, dateQuickReplyButton, cameraQuickReplyButton, cameraRollQRB, locationQRB,postbackQRB]\n",
        ")"
      ]
    },
    {
      "cell_type": "code",
      "execution_count": null,
      "metadata": {
        "id": "QGQAcwWoYlb0"
      },
      "outputs": [],
      "source": [
        "'''\n",
        "\n",
        "製作TextSendMessage，並將剛封裝的QuickReply放入\n",
        "\n",
        "'''\n",
        "## 將quickReplyList 塞入TextSendMessage 中 \n",
        "from linebot.models import (\n",
        "    TextSendMessage,\n",
        ")\n",
        "# QuickReply通常必須夾帶在xxxSendMessage的裡面\n",
        "# xxxSendMessage都會有一個額外的quick_reply參數，此參數就是放QuickReply\n",
        "quick_reply_text_send_message = TextSendMessage(text='發送問題給用戶，請用戶回答', quick_reply=quickReplyList)"
      ]
    },
    {
      "cell_type": "code",
      "execution_count": null,
      "metadata": {
        "id": "CsDjhbugRh9Z"
      },
      "outputs": [],
      "source": [
        "'''\n",
        "\n",
        "設計一個字典\n",
        "    當用戶輸入相應文字消息時，系統會從此挑揀消息\n",
        "\n",
        "'''\n",
        "\n",
        "# 將消息模型，文字收取消息與文字寄發消息 引入\n",
        "from linebot.models import (\n",
        "    MessageEvent, TextMessage, TextSendMessage, ImageSendMessage\n",
        ")\n",
        "\n",
        "# 根據自定義菜單四張故事線的圖，設定相對應image\n",
        "# 待會用戶輸入@reply\n",
        "template_message_dict = {\n",
        "  \"@reply\":quick_reply_text_send_message,\n",
        "}"
      ]
    },
    {
      "cell_type": "code",
      "execution_count": null,
      "metadata": {
        "id": "dNFhpNPPTywd"
      },
      "outputs": [],
      "source": [
        "#用戶點擊button後，觸發postback event，對其回傳做相對應處理\n",
        "from linebot.models import PostbackEvent\n",
        "\n",
        "# PostbackEvent很重要，結合QuickReply可以做好玩的事情，不可逆的流程\n",
        "@handler.add(PostbackEvent)\n",
        "def handle_post_message(event):\n",
        "    user_profile = line_bot_api.get_profile(event.source.user_id)\n",
        "    if (event.postback.data.find('Data1')== 0):\n",
        "        with open(\"user_profile_business.txt\", \"a\") as myfile:\n",
        "            myfile.write(json.dumps(vars(user_profile),sort_keys=True))\n",
        "            myfile.write('\\n')\n",
        "            line_bot_api.reply_message(\n",
        "            event.reply_token,\n",
        "                TextSendMessage(\n",
        "                    text='請稍待，會有專人與您聯繫'\n",
        "                )\n",
        "            )\n",
        "    elif (event.postback.data.find('Data2') == 0):\n",
        "        with open(\"user_profile_tutorial.txt\", \"a\") as myfile:\n",
        "            myfile.write(json.dumps(vars(user_profile),sort_keys=True))\n",
        "            myfile.write('\\n')\n",
        "            line_bot_api.reply_message(\n",
        "            event.reply_token,\n",
        "                TextSendMessage(\n",
        "                    text='請稍待，我們會派專家您聯繫'\n",
        "                )\n",
        "            )\n",
        "    else:\n",
        "        pass"
      ]
    },
    {
      "cell_type": "code",
      "execution_count": null,
      "metadata": {
        "id": "gUFnh86kQSzk"
      },
      "outputs": [],
      "source": [
        "# 用戶發出文字消息時， 按條件內容, 回傳文字消息\n",
        "# 為了要觸發字典裡的消息，設計當用戶發文字，就會回字典裡找消息\n",
        "# 記得傳@reply給機器人\n",
        "@handler.add(MessageEvent, message=TextMessage)\n",
        "def handle_message(event):\n",
        "    \n",
        "    if(event.message.text.find('@')!= -1):\n",
        "        line_bot_api.reply_message(\n",
        "        event.reply_token,\n",
        "        template_message_dict.get(event.message.text)\n",
        "        )\n",
        "    else:\n",
        "        line_bot_api.reply_message(\n",
        "        event.reply_token,\n",
        "        TextSendMessage(text=\"字典內查無此字，請輸入@more\")\n",
        "        )"
      ]
    },
    {
      "cell_type": "code",
      "execution_count": null,
      "metadata": {
        "colab": {
          "background_save": true,
          "base_uri": "https://localhost:8080/"
        },
        "id": "NVkYb65fHY9W",
        "outputId": "1f457d5f-4d7c-471a-8fd3-d857c53411ce"
      },
      "outputs": [
        {
          "name": "stdout",
          "output_type": "stream",
          "text": [
            " * Serving Flask app \"__main__\" (lazy loading)\n",
            " * Environment: production\n",
            "\u001b[31m   WARNING: This is a development server. Do not use it in a production deployment.\u001b[0m\n",
            "\u001b[2m   Use a production WSGI server instead.\u001b[0m\n",
            " * Debug mode: off\n"
          ]
        },
        {
          "name": "stderr",
          "output_type": "stream",
          "text": [
            " * Running on http://127.0.0.1:5000/ (Press CTRL+C to quit)\n"
          ]
        },
        {
          "name": "stdout",
          "output_type": "stream",
          "text": [
            " * Running on http://3b8b-35-236-150-40.ngrok.io\n",
            " * Traffic stats available on http://127.0.0.1:4040\n"
          ]
        },
        {
          "name": "stderr",
          "output_type": "stream",
          "text": [
            "127.0.0.1 - - [18/May/2022 07:00:48] \"\u001b[37mPOST / HTTP/1.1\u001b[0m\" 200 -\n"
          ]
        },
        {
          "name": "stdout",
          "output_type": "stream",
          "text": [
            "{\"destination\":\"U9b0c09d2905ecf335b8f6e4121a9c993\",\"events\":[]}\n"
          ]
        },
        {
          "name": "stderr",
          "output_type": "stream",
          "text": [
            "127.0.0.1 - - [18/May/2022 07:01:15] \"\u001b[37mPOST / HTTP/1.1\u001b[0m\" 200 -\n"
          ]
        },
        {
          "name": "stdout",
          "output_type": "stream",
          "text": [
            "{\"destination\":\"U9b0c09d2905ecf335b8f6e4121a9c993\",\"events\":[{\"type\":\"message\",\"message\":{\"type\":\"text\",\"id\":\"16106790172940\",\"text\":\"@reply\"},\"webhookEventId\":\"01G3AZH03T004G88QYTSR5D4R4\",\"deliveryContext\":{\"isRedelivery\":false},\"timestamp\":1652857273978,\"source\":{\"type\":\"user\",\"userId\":\"Uf57398b2870127a0567cc1fc518d93e0\"},\"replyToken\":\"84c21f8225a24b999ce9db43577bf4b8\",\"mode\":\"active\"}]}\n"
          ]
        },
        {
          "name": "stderr",
          "output_type": "stream",
          "text": [
            "127.0.0.1 - - [18/May/2022 07:01:28] \"\u001b[37mPOST / HTTP/1.1\u001b[0m\" 200 -\n"
          ]
        },
        {
          "name": "stdout",
          "output_type": "stream",
          "text": [
            "{\"destination\":\"U9b0c09d2905ecf335b8f6e4121a9c993\",\"events\":[{\"type\":\"message\",\"message\":{\"type\":\"text\",\"id\":\"16106791279407\",\"text\":\"text2\"},\"webhookEventId\":\"01G3AZHDBS5QN22G891T581BKM\",\"deliveryContext\":{\"isRedelivery\":false},\"timestamp\":1652857287821,\"source\":{\"type\":\"user\",\"userId\":\"Uf57398b2870127a0567cc1fc518d93e0\"},\"replyToken\":\"2b83e75b13544a22a17b2cda8f304d76\",\"mode\":\"active\"}]}\n"
          ]
        },
        {
          "name": "stderr",
          "output_type": "stream",
          "text": [
            "127.0.0.1 - - [18/May/2022 07:01:37] \"\u001b[37mPOST / HTTP/1.1\u001b[0m\" 200 -\n"
          ]
        },
        {
          "name": "stdout",
          "output_type": "stream",
          "text": [
            "{\"destination\":\"U9b0c09d2905ecf335b8f6e4121a9c993\",\"events\":[{\"type\":\"message\",\"message\":{\"type\":\"text\",\"id\":\"16106791903877\",\"text\":\"@reply\"},\"webhookEventId\":\"01G3AZHN9Q4KZDXJTEHY5AKTPH\",\"deliveryContext\":{\"isRedelivery\":false},\"timestamp\":1652857295708,\"source\":{\"type\":\"user\",\"userId\":\"Uf57398b2870127a0567cc1fc518d93e0\"},\"replyToken\":\"81ec75e639034e70a86bd3ece9a24c1a\",\"mode\":\"active\"}]}\n"
          ]
        },
        {
          "name": "stderr",
          "output_type": "stream",
          "text": [
            "127.0.0.1 - - [18/May/2022 07:01:42] \"\u001b[37mPOST / HTTP/1.1\u001b[0m\" 200 -\n"
          ]
        },
        {
          "name": "stdout",
          "output_type": "stream",
          "text": [
            "{\"destination\":\"U9b0c09d2905ecf335b8f6e4121a9c993\",\"events\":[{\"type\":\"postback\",\"postback\":{\"data\":\"data3\",\"params\":{\"date\":\"2022-05-18\"}},\"webhookEventId\":\"01G3AZHTAN5BH64Z6R12JHPPSQ\",\"deliveryContext\":{\"isRedelivery\":false},\"timestamp\":1652857300826,\"source\":{\"type\":\"user\",\"userId\":\"Uf57398b2870127a0567cc1fc518d93e0\"},\"replyToken\":\"57691f5462654e4ead4b2f966dd5417b\",\"mode\":\"active\"}]}\n",
            "{\"destination\":\"U9b0c09d2905ecf335b8f6e4121a9c993\",\"events\":[{\"type\":\"postback\",\"postback\":{\"data\":\"Data1\"},\"webhookEventId\":\"01G3AZJA9R0RMMM882ZFVAHXP0\",\"deliveryContext\":{\"isRedelivery\":false},\"timestamp\":1652857317246,\"source\":{\"type\":\"user\",\"userId\":\"Uf57398b2870127a0567cc1fc518d93e0\"},\"replyToken\":\"a98f525c168546fda0be5c90b680ce96\",\"mode\":\"active\"}]}\n"
          ]
        },
        {
          "name": "stderr",
          "output_type": "stream",
          "text": [
            "127.0.0.1 - - [18/May/2022 07:01:58] \"\u001b[37mPOST / HTTP/1.1\u001b[0m\" 200 -\n"
          ]
        },
        {
          "name": "stdout",
          "output_type": "stream",
          "text": [
            "{\"destination\":\"U9b0c09d2905ecf335b8f6e4121a9c993\",\"events\":[{\"type\":\"postback\",\"postback\":{\"data\":\"Data1\"},\"webhookEventId\":\"01G3AZJBNVKPJ30SS4Y0FT3RVY\",\"deliveryContext\":{\"isRedelivery\":false},\"timestamp\":1652857318616,\"source\":{\"type\":\"user\",\"userId\":\"Uf57398b2870127a0567cc1fc518d93e0\"},\"replyToken\":\"496ea7e7efb146a9a5017b4b939665ad\",\"mode\":\"active\"}]}\n"
          ]
        },
        {
          "name": "stderr",
          "output_type": "stream",
          "text": [
            "127.0.0.1 - - [18/May/2022 07:01:59] \"\u001b[37mPOST / HTTP/1.1\u001b[0m\" 200 -\n",
            "127.0.0.1 - - [18/May/2022 07:02:12] \"\u001b[37mPOST / HTTP/1.1\u001b[0m\" 200 -\n"
          ]
        },
        {
          "name": "stdout",
          "output_type": "stream",
          "text": [
            "{\"destination\":\"U9b0c09d2905ecf335b8f6e4121a9c993\",\"events\":[{\"type\":\"message\",\"message\":{\"type\":\"text\",\"id\":\"16106794729214\",\"text\":\"@reply\"},\"webhookEventId\":\"01G3AZJQKNRSD20175CBQEKR6B\",\"deliveryContext\":{\"isRedelivery\":false},\"timestamp\":1652857330809,\"source\":{\"type\":\"user\",\"userId\":\"Uf57398b2870127a0567cc1fc518d93e0\"},\"replyToken\":\"51cc6e5296d744b9942390194bbb3bb4\",\"mode\":\"active\"}]}\n"
          ]
        },
        {
          "name": "stderr",
          "output_type": "stream",
          "text": [
            "127.0.0.1 - - [18/May/2022 07:02:25] \"\u001b[37mPOST / HTTP/1.1\u001b[0m\" 200 -\n"
          ]
        },
        {
          "name": "stdout",
          "output_type": "stream",
          "text": [
            "{\"destination\":\"U9b0c09d2905ecf335b8f6e4121a9c993\",\"events\":[{\"type\":\"message\",\"message\":{\"type\":\"image\",\"id\":\"16106795877901\",\"contentProvider\":{\"type\":\"line\"}},\"webhookEventId\":\"01G3AZK59W74T1301WRAXEE23C\",\"deliveryContext\":{\"isRedelivery\":false},\"timestamp\":1652857345088,\"source\":{\"type\":\"user\",\"userId\":\"Uf57398b2870127a0567cc1fc518d93e0\"},\"replyToken\":\"c95700ee72844bf9984b99b9fbcff040\",\"mode\":\"active\"}]}\n"
          ]
        }
      ],
      "source": [
        "# 主程序運行\n",
        "app.run()"
      ]
    }
  ],
  "metadata": {
    "colab": {
      "collapsed_sections": [],
      "name": "「009_LineChatbot基本組成_範本訊息的缺點.ipynb」的副本",
      "provenance": [],
      "include_colab_link": true
    },
    "kernelspec": {
      "display_name": "Python 3",
      "language": "python",
      "name": "python3"
    },
    "language_info": {
      "codemirror_mode": {
        "name": "ipython",
        "version": 3
      },
      "file_extension": ".py",
      "mimetype": "text/x-python",
      "name": "python",
      "nbconvert_exporter": "python",
      "pygments_lexer": "ipython3",
      "version": "3.8.6"
    }
  },
  "nbformat": 4,
  "nbformat_minor": 0
}